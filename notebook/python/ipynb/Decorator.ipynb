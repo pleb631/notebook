{
 "cells": [
  {
   "cell_type": "markdown",
   "metadata": {},
   "source": [
    "@register\n",
    "如果你的Python脚本意外终止，但你仍想执行一些任务来保存你的工作、执行清理或打印消息，那么@register在这种情况下非常方便。"
   ]
  },
  {
   "cell_type": "code",
   "execution_count": null,
   "metadata": {},
   "outputs": [],
   "source": [
    "from atexit import register\n",
    "import time\n",
    "\n",
    "@register\n",
    "def terminate():\n",
    "    print(\"Goodbye!\")\n",
    "\n",
    "while True:\n",
    "    print(\"Hello\")\n",
    "    time.sleep(1)"
   ]
  },
  {
   "cell_type": "markdown",
   "metadata": {},
   "source": [
    "@singledispatch\n",
    "允许函数对不同类型的参数有不同的实现，有点像Java等面向对象语言中的函数重载。"
   ]
  },
  {
   "cell_type": "code",
   "execution_count": null,
   "metadata": {},
   "outputs": [],
   "source": [
    "from functools import singledispatch\n",
    "\n",
    "@singledispatch\n",
    "def fun(arg):\n",
    "    print(\"Called with a single argument\")\n",
    "\n",
    "@fun.register(int)\n",
    "def _(arg):\n",
    "    print(\"Called with an integer\")\n",
    "\n",
    "@fun.register(list)\n",
    "def _(arg):\n",
    "    print(\"Called with a list\")\n",
    "\n",
    "fun(1)  # Prints \"Called with an integer\"\n",
    "fun([1, 2, 3])  # Prints \"Called with a list\"\n"
   ]
  },
  {
   "cell_type": "markdown",
   "metadata": {},
   "source": [
    "@repeat\n",
    "该装饰器的所用是多次调用被修饰函数。这对于调试、压力测试或自动化多个重复任务非常有用。\n",
    "跟前面的装饰器不同，@repeat接受一个输入参数，"
   ]
  },
  {
   "cell_type": "code",
   "execution_count": null,
   "metadata": {},
   "outputs": [],
   "source": [
    "from functools import wraps\n",
    "def repeat(number_of_times):\n",
    "    def decorate(func):\n",
    "        @wraps(func)\n",
    "        def wrapper(*args, **kwargs):\n",
    "            for _ in range(number_of_times):\n",
    "                func(*args, **kwargs)\n",
    "        return wrapper\n",
    "    return decorate\n"
   ]
  },
  {
   "cell_type": "markdown",
   "metadata": {},
   "source": [
    "@timeit\n",
    "该装饰器用来测量函数的执行时间并打印出来。这对调试和监控非常有用。在下面的代码片段中，@timeit装饰器测量process_data函数的执行时间，并以秒为单位打印所用的时间。"
   ]
  },
  {
   "cell_type": "code",
   "execution_count": null,
   "metadata": {},
   "outputs": [],
   "source": [
    "import time\n",
    "from functools import wraps\n",
    "\n",
    "def timeit(func):\n",
    "    @wraps(func)\n",
    "    def wrapper(*args, **kwargs):\n",
    "        start = time.perf_counter()\n",
    "        result = func(*args, **kwargs)\n",
    "        end = time.perf_counter()\n",
    "        print(f'{func.__name__} took {end - start:.6f} seconds to complete')\n",
    "        return result\n",
    "    return wrapper\n",
    "\n",
    "@timeit\n",
    "def process_data():\n",
    "    time.sleep(1)\n",
    "\n",
    "process_data()\n",
    "# process_data took 1.000012 seconds to complete\n"
   ]
  },
  {
   "cell_type": "markdown",
   "metadata": {},
   "source": [
    "@retry\n",
    "当函数遇到异常时，该装饰器会强制函数重试多次。它接受三个参数：重试次数、捕获的异常以及重试之间的间隔时间。"
   ]
  },
  {
   "cell_type": "code",
   "execution_count": null,
   "metadata": {},
   "outputs": [],
   "source": [
    "import random\n",
    "import time\n",
    "from functools import wraps\n",
    "\n",
    "def retry(num_retries, exception_to_check, sleep_time=0):\n",
    "    \"\"\"\n",
    "    遇到异常尝试重新执行装饰器\n",
    "    \"\"\"\n",
    "    def decorate(func):\n",
    "        @wraps(func)\n",
    "        def wrapper(*args, **kwargs):\n",
    "            for i in range(1, num_retries+1):\n",
    "                try:\n",
    "                    return func(*args, **kwargs)\n",
    "                except exception_to_check as e:\n",
    "                    print(f\"{func.__name__} raised {e.__class__.__name__}. Retrying...\")\n",
    "                    if i < num_retries:\n",
    "                        time.sleep(sleep_time)\n",
    "            # 尝试多次后仍不成功则抛出异常\n",
    "            raise e\n",
    "        return wrapper\n",
    "    return decorate\n",
    "\n",
    "@retry(num_retries=3, exception_to_check=ValueError, sleep_time=1)\n",
    "def random_value():\n",
    "    value = random.randint(1, 5)\n",
    "    if value == 3:\n",
    "        raise ValueError(\"Value cannot be 3\")\n",
    "    return value\n",
    "\n",
    "random_value()\n",
    "# random_value raised ValueError. Retrying...\n",
    "# 1\n",
    "\n",
    "random_value()\n",
    "# 5\n"
   ]
  },
  {
   "cell_type": "markdown",
   "metadata": {},
   "source": [
    "@countcall\n",
    "@countcall用于统计被修饰函数的调用次数。这里的调用次数会缓存在wraps的count属性中。"
   ]
  },
  {
   "cell_type": "code",
   "execution_count": null,
   "metadata": {},
   "outputs": [],
   "source": [
    "from functools import wraps\n",
    "\n",
    "def countcall(func):\n",
    "    @wraps(func)\n",
    "    def wrapper(*args, **kwargs):\n",
    "        wrapper.count += 1\n",
    "        result = func(*args, **kwargs)\n",
    "        print(f'{func.__name__} has been called {wrapper.count} times')\n",
    "        return result\n",
    "    wrapper.count = 0\n",
    "    return wrapper\n",
    "\n",
    "@countcall\n",
    "def process_data():\n",
    "    pass\n",
    "\n",
    "process_data()\n",
    "process_data()\n",
    "process_data()\n"
   ]
  },
  {
   "cell_type": "markdown",
   "metadata": {},
   "source": [
    " @rate_limited\n",
    "@rate_limited装饰器会在被修饰函数调用太频繁时，休眠一段时间，从而限制函数的调用速度。这在模拟、爬虫、接口调用防过载等场景下非常有用"
   ]
  },
  {
   "cell_type": "code",
   "execution_count": null,
   "metadata": {},
   "outputs": [],
   "source": [
    "import time\n",
    "from functools import wraps\n",
    "\n",
    "def rate_limited(max_per_second):\n",
    "    min_interval = 1.0 / float(max_per_second)\n",
    "    def decorate(func):\n",
    "        last_time_called = [0.0]\n",
    "        @wraps(func)\n",
    "        def rate_limited_function(*args, **kargs):\n",
    "            elapsed = time.perf_counter() - last_time_called[0]\n",
    "            left_to_wait = min_interval - elapsed\n",
    "            if left_to_wait > 0:\n",
    "                time.sleep(left_to_wait)\n",
    "            ret = func(*args, **kargs)\n",
    "            last_time_called[0] = time.perf_counter()\n",
    "            return ret\n",
    "        return rate_limited_function\n",
    "    return decorate\n"
   ]
  },
  {
   "cell_type": "markdown",
   "metadata": {},
   "source": [
    "@dataclass\n",
    "Python 3.7 引入了@dataclass装饰器，将其加入到标准库，用于装饰类。它主要用于存储数据的类自动生成诸如__init__， __repr__， __eq__， __lt__，__str__ 等特殊函数。这样可以减少模板代码，并使类更加可读和可维护。\n",
    "\n",
    "另外，@dataclass还提供了现成的美化方法，可以清晰地表示对象，将其转换为JSON格式，等等"
   ]
  },
  {
   "cell_type": "code",
   "execution_count": null,
   "metadata": {},
   "outputs": [],
   "source": [
    "from dataclasses import dataclass, asdict\n",
    "\n",
    "@dataclass\n",
    "class Person:\n",
    "    first_name: str\n",
    "    last_name: str\n",
    "    age: int\n",
    "    job: str\n",
    "\n",
    "    def __eq__(self, other):\n",
    "        if isinstance(other, Person):\n",
    "            return self.age == other.age\n",
    "        return NotImplemented\n",
    "\n",
    "    def __lt__(self, other):\n",
    "        if isinstance(other, Person):\n",
    "            return self.age < other.age\n",
    "        return NotImplemented\n",
    "\n",
    "\n",
    "john = Person(first_name=\"John\", \n",
    "              last_name=\"Doe\", \n",
    "              age=30, \n",
    "              job=\"doctor\",)\n",
    "\n",
    "anne = Person(first_name=\"Anne\", \n",
    "              last_name=\"Smith\", \n",
    "              age=40, \n",
    "              job=\"software engineer\",)\n",
    "\n",
    "print(john == anne)\n",
    "# False\n",
    "\n",
    "print(anne > john)\n",
    "# True\n",
    "\n",
    "asdict(anne)\n",
    "#{'first_name': 'Anne',\n",
    "# 'last_name': 'Smith',\n",
    "# 'age': 40,\n",
    "# 'job': 'software engineer'}\n"
   ]
  },
  {
   "cell_type": "markdown",
   "metadata": {},
   "source": [
    "异步调用"
   ]
  },
  {
   "cell_type": "code",
   "execution_count": null,
   "metadata": {},
   "outputs": [],
   "source": [
    "import threading\n",
    "def threaded(func):\n",
    "    def wrapper(*args, **kwargs):\n",
    "        \"\"\"Multi-threads a given function based on 'threaded' kwarg and returns the thread or function result.\"\"\"\n",
    "        if kwargs.pop(\"threaded\", True):  # run in thread\n",
    "            thread = threading.Thread(target=func, args=args, kwargs=kwargs, daemon=True)\n",
    "            thread.start()\n",
    "            return thread\n",
    "        else:\n",
    "            return func(*args, **kwargs)\n",
    "\n",
    "    return wrapper"
   ]
  },
  {
   "cell_type": "markdown",
   "metadata": {},
   "source": [
    "线程锁"
   ]
  },
  {
   "cell_type": "code",
   "execution_count": null,
   "metadata": {},
   "outputs": [],
   "source": [
    "class ThreadingLocked:\n",
    "    def __init__(self):\n",
    "        \"\"\"Initializes the decorator class for thread-safe execution of a function or method.\"\"\"\n",
    "        self.lock = threading.Lock()\n",
    "\n",
    "    def __call__(self, f):\n",
    "        \"\"\"Run thread-safe execution of function or method.\"\"\"\n",
    "        from functools import wraps\n",
    "\n",
    "        @wraps(f)\n",
    "        def decorated(*args, **kwargs):\n",
    "            \"\"\"Applies thread-safety to the decorated function or method.\"\"\"\n",
    "            with self.lock:\n",
    "                return f(*args, **kwargs)\n",
    "\n",
    "        return decorated"
   ]
  },
  {
   "cell_type": "markdown",
   "metadata": {},
   "source": [
    "click\n",
    "beautiful command line interfaces"
   ]
  },
  {
   "cell_type": "code",
   "execution_count": null,
   "metadata": {},
   "outputs": [],
   "source": [
    "import click\n",
    "\n",
    "@click.command()\n",
    "@click.option(\"--count\", default=1, help=\"Number of greetings.\")\n",
    "@click.option(\"--name\", prompt=\"Your name\", help=\"The person to greet.\")\n",
    "def hello(count, name):\n",
    "    \"\"\"Simple program that greets NAME for a total of COUNT times.\"\"\"\n",
    "    for _ in range(count):\n",
    "        click.echo(f\"Hello, {name}!\")\n",
    "\n",
    "if __name__ == '__main__':\n",
    "    hello()"
   ]
  }
 ],
 "metadata": {
  "kernelspec": {
   "display_name": "py310",
   "language": "python",
   "name": "python3"
  },
  "language_info": {
   "codemirror_mode": {
    "name": "ipython",
    "version": 3
   },
   "file_extension": ".py",
   "mimetype": "text/x-python",
   "name": "python",
   "nbconvert_exporter": "python",
   "pygments_lexer": "ipython3",
   "version": "3.10.0"
  }
 },
 "nbformat": 4,
 "nbformat_minor": 2
}
