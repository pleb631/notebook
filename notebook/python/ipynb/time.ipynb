{
 "cells": [
  {
   "cell_type": "code",
   "execution_count": null,
   "metadata": {},
   "outputs": [],
   "source": [
    "import time\n",
    "\"\"\"\n",
    "%Y\t年份（0-9999）\n",
    "%m\t月份（01-12）\n",
    "%B\t月份名称（January-December）\n",
    "%b\t月份名称小写\n",
    "%d\t日期（01-35）\n",
    "%A\t星期（Monday-Sunday）\n",
    "%a\t星期缩写（Mon-Sun）\n",
    "%H\t小时（24制00-23）\n",
    "%I\t小时（12制01-12）\n",
    "%p\t上午/下午（AM/PM）\n",
    "%M\t分钟（00-59）\n",
    "%S\t秒（00-59）\n",
    "\"\"\""
   ]
  },
  {
   "cell_type": "code",
   "execution_count": null,
   "metadata": {},
   "outputs": [],
   "source": [
    "print(time.localtime())#本地时间\n",
    "print(time.gmtime())#格林时间\n",
    "#返回struct结构"
   ]
  },
  {
   "cell_type": "code",
   "execution_count": null,
   "metadata": {},
   "outputs": [],
   "source": [
    "time.time() #时间戳\n",
    "#1679389186.9381385"
   ]
  },
  {
   "cell_type": "code",
   "execution_count": null,
   "metadata": {},
   "outputs": [],
   "source": [
    "time.ctime(time.time())#从时间戳转为可读字符串\n",
    "#'Tue Mar 21 16:59:47 2023'"
   ]
  },
  {
   "cell_type": "code",
   "execution_count": null,
   "metadata": {},
   "outputs": [],
   "source": [
    "time.mktime(time.gmtime())#从struct转为时间戳\n",
    "#1679360387.0"
   ]
  },
  {
   "cell_type": "code",
   "execution_count": null,
   "metadata": {},
   "outputs": [],
   "source": [
    "#在可读字符串和struct间按照指定格式进行转换\n",
    "local=time.localtime()\n",
    "time1=time.strftime(\"%Y-%m-%d %H:%M:%S\",local)\n",
    "print(time1)\n",
    "time2=time.strptime(time1,\"%Y-%m-%d %H:%M:%S\")\n",
    "print(time2)\n",
    "\n",
    "#2023-03-21 16:59:47\n",
    "#time.struct_time(tm_year=2023, tm_mon=3, tm_mday=21, tm_hour=16, tm_min=59, tm_sec=47, tm_wday=1, tm_yday=80, tm_isdst=-1)"
   ]
  }
 ],
 "metadata": {
  "kernelspec": {
   "display_name": "base",
   "language": "python",
   "name": "python3"
  },
  "language_info": {
   "codemirror_mode": {
    "name": "ipython",
    "version": 3
   },
   "file_extension": ".py",
   "mimetype": "text/x-python",
   "name": "python",
   "nbconvert_exporter": "python",
   "pygments_lexer": "ipython3",
   "version": "3.9.7"
  },
  "orig_nbformat": 4,
  "vscode": {
   "interpreter": {
    "hash": "e42634819b8c191a5d07eaf23810ff32516dd8d3875f28ec3e488928fbd3c187"
   }
  }
 },
 "nbformat": 4,
 "nbformat_minor": 2
}
