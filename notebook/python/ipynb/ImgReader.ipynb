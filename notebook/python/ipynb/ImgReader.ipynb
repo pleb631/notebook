{
 "cells": [
  {
   "cell_type": "code",
   "execution_count": 2,
   "metadata": {},
   "outputs": [],
   "source": [
    "import cv2\n",
    "from PIL import Image\n",
    "import numpy as np\n",
    "import torchvision\n",
    "\n"
   ]
  },
  {
   "cell_type": "code",
   "execution_count": 3,
   "metadata": {},
   "outputs": [
    {
     "name": "stdout",
     "output_type": "stream",
     "text": [
      "im_cv shape is (1024, 683, 3),\n",
      "im_pil shape is (683, 1024)\n"
     ]
    }
   ],
   "source": [
    "##h=1024,w=683\n",
    "im_cv = cv2.imread('test.jpg')#h,w,3\n",
    "im_pil = Image.open('test.jpg')#w,h\n",
    "print(f'im_cv shape is {im_cv.shape},\\nim_pil shape is {im_pil.size}')"
   ]
  },
  {
   "cell_type": "code",
   "execution_count": 6,
   "metadata": {},
   "outputs": [
    {
     "name": "stdout",
     "output_type": "stream",
     "text": [
      "(683, 1024)\n",
      "(1024, 683, 3)\n"
     ]
    },
    {
     "data": {
      "text/plain": [
       "(100, 200)"
      ]
     },
     "execution_count": 6,
     "metadata": {},
     "output_type": "execute_result"
    }
   ],
   "source": [
    "out = Image.fromarray(im_cv)\n",
    "print(out.size)\n",
    "out = np.array(out)\n",
    "print(out.shape)\n",
    "\n",
    "\n",
    "out = np.ones((200,100,3))\n",
    "out =  Image.fromarray(out.astype('uint8')).convert('RGB')\n",
    "out.size"
   ]
  },
  {
   "cell_type": "code",
   "execution_count": 8,
   "metadata": {},
   "outputs": [],
   "source": [
    "out = torchvision.transforms.Resize((400,200))(im_pil)\n",
    "out.show()"
   ]
  },
  {
   "cell_type": "code",
   "execution_count": null,
   "metadata": {},
   "outputs": [],
   "source": [
    "from  matplotlib import pyplot as plt\n",
    "out = cv2.resize(im_cv,(200,400))\n",
    "plt.imshow(out)\n",
    "plt.show()"
   ]
  },
  {
   "cell_type": "code",
   "execution_count": 15,
   "metadata": {},
   "outputs": [
    {
     "name": "stdout",
     "output_type": "stream",
     "text": [
      "False\n",
      "False\n",
      "True\n"
     ]
    }
   ],
   "source": [
    "import numpy as np\n",
    "import cv2\n",
    "import io\n",
    "img_url = r'D:\\objectdetection\\download_images\\车身广告\\Baidu_0004.jpeg'\n",
    "with open(img_url, 'rb') as f:\n",
    "    a = f.read() #按二进制读入\n",
    "a1 = np.frombuffer(a, np.uint8) #把二进制数据转为ndarray对象\n",
    "#等价于a1 = np.asarray(bytearray(a),dtype=np.int8)\n",
    "a2 = np.fromfile(img_url)\n",
    "a3 = io.BytesIO(a2.tobytes()).getvalue()\n",
    "print(a==a3)\n",
    "print(np.array_equal(a1,a2))\n",
    "img1 = cv2.imdecode(a1,cv2.IMREAD_COLOR)\n",
    "img2 = cv2.imdecode(a2,cv2.IMREAD_COLOR)\n",
    "print(np.array_equal(img1,img2))"
   ]
  }
 ],
 "metadata": {
  "kernelspec": {
   "display_name": "py38",
   "language": "python",
   "name": "python3"
  },
  "language_info": {
   "codemirror_mode": {
    "name": "ipython",
    "version": 3
   },
   "file_extension": ".py",
   "mimetype": "text/x-python",
   "name": "python",
   "nbconvert_exporter": "python",
   "pygments_lexer": "ipython3",
   "version": "3.8.0"
  },
  "orig_nbformat": 4,
  "vscode": {
   "interpreter": {
    "hash": "694a5ca4ff500403e563beeba6426a1c919db37382c2fe6c52fb893497b50295"
   }
  }
 },
 "nbformat": 4,
 "nbformat_minor": 2
}
