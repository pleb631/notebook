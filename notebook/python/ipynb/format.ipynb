{
 "cells": [
  {
   "cell_type": "markdown",
   "metadata": {},
   "source": [
    "format_spec  格式：   [[fill]align][sign][#][0][width][grouping_option][.precision][type]\n",
    "即format一般的格式为\n",
    "[填充字符][对齐方式][数字的正负号显示][#][0][宽度][千分位分组符号][.小数精度][类型]\n",
    " \n",
    "（1）填充 fill ：     可以是任何的字符\n",
    "（2）对齐 align：     \"<\" | \">\" | \"=\" | \"^\"\n",
    "（3）符号 sign ：     这个仅仅对数值有效 \"+\" | \"-\" | \" \"\n",
    "（4）宽度 width：     是一个整数数值，表示多少宽度\n",
    "（5）grouping_option：表示千分位的分隔符号，可以是  \"_\" | \",\"\n",
    "（6）精度 precision ： .数字 \n",
    "（7）类型 type ：     \"b\" | \"c\" | \"d\" | \"e\" | \"E\" | \"f\" | \"F\" | \"g\" | \"G\" | \"n\" | \"o\" | \"s\" | \"x\" | \"X\" | \"%\""
   ]
  },
  {
   "cell_type": "code",
   "execution_count": null,
   "metadata": {},
   "outputs": [],
   "source": [
    "s = \"PYTHON\"\n",
    "print(f\"{s:30}a\")\n",
    "print(f\"{s:>30}a\")\n",
    "print(f\"{s:*^30}a\")\n",
    "print(f\"{s:-^30}a\")\n",
    "print(f\"{s:3}a\")\n"
   ]
  },
  {
   "cell_type": "code",
   "execution_count": null,
   "metadata": {},
   "outputs": [],
   "source": [
    "s=123456.789010\n",
    "print(f'{s:-^30.2f}')\n",
    "print(f'{s:-^30,}')\n",
    "s=123456\n",
    "print(f'{s:X}')\n",
    "# b: 输出整数的二进制方式；\n",
    "# c: 输出整数对应的 Unicode 字符；\n",
    "# d: 输出整数的十进制方式；\n",
    "# o: 输出整数的八进制方式；\n",
    "# x: 输出整数的小写十六进制方式；\n",
    "# X: 输出整数的大写十六进制方式；\n",
    "print('-'*20)\n",
    "print(f'{s:f}')\n",
    "print(f'{s:%}')\n",
    "print(f'{s:e}')\n",
    "print('-'*20)\n",
    "print(f'{s:.2f}')\n",
    "print(f'{s:.2%}')\n",
    "print(f'{s:.2e}')"
   ]
  },
  {
   "cell_type": "code",
   "execution_count": null,
   "metadata": {},
   "outputs": [],
   "source": [
    "#[填充字符][对齐方式][数字的正负号显示][#][0][宽度][千分位分组符号][.小数精度][类型]\n",
    "s=123456\n",
    "print(f'{s:*>#020X}')"
   ]
  }
 ],
 "metadata": {
  "kernelspec": {
   "display_name": "py310",
   "language": "python",
   "name": "python3"
  },
  "language_info": {
   "codemirror_mode": {
    "name": "ipython",
    "version": 3
   },
   "file_extension": ".py",
   "mimetype": "text/x-python",
   "name": "python",
   "nbconvert_exporter": "python",
   "pygments_lexer": "ipython3",
   "version": "3.10.0"
  }
 },
 "nbformat": 4,
 "nbformat_minor": 2
}
