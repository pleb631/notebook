{
 "cells": [
  {
   "attachments": {},
   "cell_type": "markdown",
   "metadata": {},
   "source": [
    "函数参数的区别\n",
    "sys.path\n",
    "函数装饰器\n",
    "字典排序\n",
    "类变量\n",
    "生成二维数组\n",
    "多重列表的展开\n",
    "列表元素计数\n",
    "实例函数\n",
    "迭代器\n",
    "yield\n",
    "zip\n",
    "classmethod"
   ]
  },
  {
   "cell_type": "code",
   "execution_count": 2,
   "metadata": {},
   "outputs": [
    {
     "name": "stdout",
     "output_type": "stream",
     "text": [
      "14\n",
      "14\n",
      "name: lawson age: 24 other: {'city': 'shanghai', 'job': 'data scientist'}\n",
      "name: lawson age: 24 other: {'city': 'shanghai', 'job': 'data scientist'}\n",
      "lawson 24 shanghai student\n",
      "a = 1 b = 2 c = 3 args = (4, 5) kw = {'f': 5, 'g': 6}\n"
     ]
    }
   ],
   "source": [
    "#函数参数的区别\n",
    "\n",
    "\"\"\"1.位置参数\"\"\"\n",
    "def power(x):\n",
    "    return x * x\n",
    "# 这里的x 就是一个位置参数\n",
    "power(5) # 25\n",
    "\n",
    "\n",
    "\"\"\"2.默认参数\"\"\"\n",
    "# 如果想计算的是x的n 次方，那么可以这么做：\n",
    "def power(x,n=2):\n",
    "    s = 1\n",
    "    while n > 0:\n",
    "        n-=1\n",
    "        s*=x\n",
    "    return s\n",
    "\n",
    "\n",
    "\"\"\"3.可变参数\"\"\"\n",
    "#在函数内部，参数 *numbers 接收到的是一个tuple【自动组装成一个tuple】。甚至是一个包含0个参数的tuple \n",
    "def calc(*numbers):\n",
    "    sum = 0\n",
    "    for n in numbers:\n",
    "        sum += (n*n)\n",
    "    return sum\n",
    "\n",
    "print(calc(1,2,3)) # 14\n",
    "\n",
    "# 但是如果参数是list 或者是 tuple，那么怎么传递到calc()中？\n",
    "# 可以使用 *tuple 或者 是 *list 的方法来调用calc()方法，举例如下：\n",
    "\n",
    "vec = [1,2,3]\n",
    "print(calc(*vec)) #在list或tuple之前加一个*号，把list或tuple的元素变成可变参数传递。结果为14\n",
    "\n",
    "\n",
    "\"\"\"4.关键字参数\"\"\"\n",
    "# 关键字参数 允许你传入0个或者任意个 含参数名的参数【key-value这种形式的参数，见后案例】，这些关键字参数在函数内部自动组装成一个dict\n",
    "def person(name,age,**kw):\n",
    "    print('name:',name,'age:',age,'other:',kw)\n",
    "    \n",
    "person('lawson','24',city='shanghai',job='data scientist') \n",
    "\n",
    "# 同可变参数，这里也可以使用 **kw 的形式来简化参数的传入。修改如下：\n",
    "dict={'city':'shanghai','job':'data scientist'} #注意这里的key 也需要使用''来盖住\n",
    "person('lawson',24,**dict) # **dict的方式\n",
    "\n",
    "\n",
    "\n",
    "\"\"\"5.命名关键字参数\"\"\"\n",
    "# 如果要求“在调用函数时必须指定关键字参数的名字”，就可以用命名关键字参数\n",
    "# 命名关键字参数需要一个特殊分割符*， * 后面的参数被视为命名关键字参数\n",
    "# 命名关键字参数必须传入参数名，否则会报错\n",
    "# 使用命名关键字参数时，要特别注意，如果没有可变参数，就必须加一个*作为特殊分隔符。如果缺少*，Python解释器将无法识别位置参数和命名关键字参数\n",
    "def employee(name,age,*,city,job):\n",
    "    print(name,age,city,job)\n",
    "\n",
    "# SyntaxError: positional argument follows keyword argument  报的语法\n",
    "#错误是：位置参数放在了关键字参数之后，这是不对的。\n",
    "#employee('lawson',24,city = \"shanghai\",'student') \n",
    "employee('lawson',24,city = \"shanghai\",job = 'student')\n",
    "\n",
    "\n",
    "\"\"\"6.练习\"\"\"\n",
    "def f1(a, b, c=0, *args, **kw):\n",
    "    print('a =', a, 'b =', b, 'c =', c, 'args =', args, 'kw =', kw)\n",
    "\n",
    "def f2(a, b, c=0, *, d, **kw):\n",
    "    print('a =', a, 'b =', b, 'c =', c, 'd =', d, 'kw =', kw)\n",
    "\n",
    "f1(1,2,3,4,5,f=5,g=6)"
   ]
  },
  {
   "cell_type": "code",
   "execution_count": 3,
   "metadata": {},
   "outputs": [
    {
     "name": "stdout",
     "output_type": "stream",
     "text": [
      "d:\\project\\notebook\\notebook\\python\n",
      "c:\\Users\\admin\\anaconda3\\python39.zip\n",
      "c:\\Users\\admin\\anaconda3\\DLLs\n",
      "c:\\Users\\admin\\anaconda3\\lib\n",
      "c:\\Users\\admin\\anaconda3\n",
      "\n",
      "c:\\Users\\admin\\anaconda3\\lib\\site-packages\n",
      "c:\\Users\\admin\\anaconda3\\lib\\site-packages\\win32\n",
      "c:\\Users\\admin\\anaconda3\\lib\\site-packages\\win32\\lib\n",
      "c:\\Users\\admin\\anaconda3\\lib\\site-packages\\Pythonwin\n",
      "========= after =========\n",
      "d:\\project\\notebook\\notebook\\python\n",
      "c:\\Users\\admin\\anaconda3\\python39.zip\n",
      "c:\\Users\\admin\\anaconda3\\DLLs\n",
      "c:\\Users\\admin\\anaconda3\\lib\n",
      "c:\\Users\\admin\\anaconda3\n",
      "\n",
      "c:\\Users\\admin\\anaconda3\\lib\\site-packages\n",
      "c:\\Users\\admin\\anaconda3\\lib\\site-packages\\win32\n",
      "c:\\Users\\admin\\anaconda3\\lib\\site-packages\\win32\\lib\n",
      "c:\\Users\\admin\\anaconda3\\lib\\site-packages\\Pythonwin\n",
      ".\n",
      "11\n",
      "c:\\Users\\admin\\anaconda3\\lib\\site-packages\\ipykernel_launcher.py\n",
      "--ip=127.0.0.1\n",
      "--stdin=9003\n",
      "--control=9001\n",
      "--hb=9000\n",
      "--Session.signature_scheme=\"hmac-sha256\"\n",
      "--Session.key=b\"94674c38-eb7e-4134-9a8f-48120a0ee0c7\"\n",
      "--shell=9002\n",
      "--transport=\"tcp\"\n",
      "--iopub=9004\n",
      "--f=c:\\Users\\admin\\AppData\\Roaming\\jupyter\\runtime\\kernel-v2-20452L0Lcv8b73j29.json\n"
     ]
    }
   ],
   "source": [
    "\"\"\"模块搜索路径存储在sys.path中\n",
    "\"\"\"\n",
    "import sys\n",
    "for _ in sys.path:\n",
    "    print(_)\n",
    "sys.path.append(r\".\") # 将某个环境添加到Python的搜索路径中。在这里是当前目录\n",
    "print(\"========= after =========\")\n",
    "for _ in sys.path:\n",
    "    print(_)\n",
    "    \n",
    "    \n",
    "\"\"\"1.用sys.argv 来获取命令行参数\n",
    "01.sys.argv[0] 表示脚本名 【注意！！！】\n",
    "\"\"\"\n",
    "import sys\n",
    "print(len(sys.argv))\n",
    "for _ in sys.argv:\n",
    "    print(_)"
   ]
  },
  {
   "cell_type": "code",
   "execution_count": 4,
   "metadata": {},
   "outputs": [
    {
     "data": {
      "text/plain": [
       "2"
      ]
     },
     "execution_count": 4,
     "metadata": {},
     "output_type": "execute_result"
    }
   ],
   "source": [
    "# 函数装饰器\n",
    "def singleton(cls,**ks):\n",
    "    _instance={} # 这个里面存放各个类的唯一实例\n",
    "    \n",
    "    # TODO: 为啥需要再定义一个内部函数，然后再返回呢？\n",
    "    def inner(**ks):\n",
    "        # 如果这个类不在这个 _instance 中，那么就要初始化一下\n",
    "        if cls not in _instance: \n",
    "            _instance[cls] = cls(**ks)\n",
    "        return _instance[cls]\n",
    "    return inner\n",
    "\n",
    "# 使用装饰器修饰 => 为啥装饰器还可以修饰类？\n",
    "@singleton \n",
    "# 定义一个类，用于实现单例\n",
    "class Student(object):    \n",
    "    def __init__(self,i):\n",
    "        self.i = i\n",
    "\n",
    "a = Student(i=2)\n",
    "b = Student(i=3)\n",
    "id(a) == id(b)\n",
    "a.i"
   ]
  },
  {
   "cell_type": "code",
   "execution_count": 5,
   "metadata": {},
   "outputs": [
    {
     "name": "stdout",
     "output_type": "stream",
     "text": [
      "{'辛辣': 'DRUG_TASTE', '孕妇': 'PERSON_GROUP', '补气养血': 'DRUG_EFFICACY'}\n"
     ]
    },
    {
     "ename": "TypeError",
     "evalue": "'dict' object is not callable",
     "output_type": "error",
     "traceback": [
      "\u001b[1;31m---------------------------------------------------------------------------\u001b[0m",
      "\u001b[1;31mTypeError\u001b[0m                                 Traceback (most recent call last)",
      "\u001b[1;32md:\\project\\notebook\\notebook\\python\\python.ipynb Cell 5\u001b[0m in \u001b[0;36m<cell line: 12>\u001b[1;34m()\u001b[0m\n\u001b[0;32m     <a href='vscode-notebook-cell:/d%3A/project/notebook/notebook/python/python.ipynb#W3sZmlsZQ%3D%3D?line=9'>10</a>\u001b[0m entity \u001b[39m=\u001b[39m \u001b[39msorted\u001b[39m(entity\u001b[39m.\u001b[39mitems(),key\u001b[39m=\u001b[39m\u001b[39mlambda\u001b[39;00m entity:\u001b[39mlen\u001b[39m(entity[\u001b[39m0\u001b[39m]),reverse\u001b[39m=\u001b[39m\u001b[39mTrue\u001b[39;00m)\n\u001b[0;32m     <a href='vscode-notebook-cell:/d%3A/project/notebook/notebook/python/python.ipynb#W3sZmlsZQ%3D%3D?line=10'>11</a>\u001b[0m \u001b[39m# dic 在sorted()之后得到的是个list，而不再是个 dict 了\u001b[39;00m\n\u001b[1;32m---> <a href='vscode-notebook-cell:/d%3A/project/notebook/notebook/python/python.ipynb#W3sZmlsZQ%3D%3D?line=11'>12</a>\u001b[0m \u001b[39mprint\u001b[39m(\u001b[39mdict\u001b[39;49m(entity))\n",
      "\u001b[1;31mTypeError\u001b[0m: 'dict' object is not callable"
     ]
    }
   ],
   "source": [
    "'''对字典进行排序\n",
    "按照字典键的长度进行排序\n",
    "'''\n",
    "entity={'辛辣':'DRUG_TASTE','孕妇':\"PERSON_GROUP\",'补气养血':'DRUG_EFFICACY'}\n",
    "print(entity)\n",
    "\n",
    "# 注意语法的含义，才能更好的记住\n",
    "# 01.对entity.items()进行排序\n",
    "# 02.排序规则是lambda 函数定义的key\n",
    "entity = sorted(entity.items(),key=lambda entity:len(entity[0]),reverse=True)\n",
    "# dic 在sorted()之后得到的是个list，而不再是个 dict 了\n",
    "print(dict(entity))"
   ]
  },
  {
   "cell_type": "code",
   "execution_count": null,
   "metadata": {},
   "outputs": [],
   "source": [
    "\"\"\"变量的区别\n",
    "01.类变量：类中但是不在方法中的变量\n",
    "02.局部变量：在类的普通方法中的变量\n",
    "03.实例变量：在类实例方法中的变量\n",
    "\"\"\"\n",
    "class Test:\n",
    "    a = 1   # 类变量\n",
    "    def __init__(self):\n",
    "        self.b = 2 # 实例变量\n",
    "        c = 3 # 局部变量\n",
    "test = Test()\n",
    "print(test.a)\n",
    "print(test.b)\n",
    "print(test.c) #类实例无权访问方法变量 => AttributeError: 'Test' object has no attribute 'c'"
   ]
  },
  {
   "cell_type": "code",
   "execution_count": null,
   "metadata": {},
   "outputs": [],
   "source": [
    "# 对多重列表的展开\n",
    "a = [1,2,3,[4],[5,[6,7]]]\n",
    "\n",
    "def flat(tree):\n",
    "  res = []\n",
    "  for i in tree:\n",
    "    if isinstance(i, list):\n",
    "      res.extend(flat(i)) # flat()返回的结果是一个list\n",
    "    else:\n",
    "      res.append(i)\n",
    "  return res\n",
    "\n",
    "out = flat(a)\n",
    "print(out)"
   ]
  },
  {
   "cell_type": "code",
   "execution_count": null,
   "metadata": {},
   "outputs": [],
   "source": [
    "#生成二维数组\n",
    "b = [[0]*5 for i in range(3)]\n",
    "print(b)\n",
    "b[1][2] = 4\n",
    "print(b)\n",
    "\n",
    "'''错误的生成方式：这样会得到一个相同地址的引用\n",
    "'''\n",
    "b = [[0]*3] *2\n",
    "print(b)\n",
    "b[1][2] = 43\n",
    "print(b)\n",
    "print(id(b[0]),id(b[1]))\n",
    "print(\"============\")\n",
    "c = [0]*3\n",
    "print(c)\n",
    "c[0] = 2\n",
    "print(c)\n",
    "print(id(c))\n",
    "print(id(c[0]),id(c[1]),id(c[2]))"
   ]
  },
  {
   "cell_type": "code",
   "execution_count": null,
   "metadata": {},
   "outputs": [],
   "source": [
    "#实例方法和普通方法\n",
    "\"\"\"方法一般就分两种\n",
    "01.不绑定self 的普通函数：这种方法只能让类调用，类的实例是无法调用的。\n",
    "02.绑定self的实例方法：把它绑定的对象作为第一个参数传给这个对象。\n",
    "self 的含义仅仅是提醒你这个方法会被绑定到实例上而已\n",
    "03.实例方法与普通函数只有一个区别。那就是类方法必须有一个额外的第一个参数名称，\n",
    "惯例写作self【注意实例方法的条件：第一个参数用于都只能是代表类实例的self。】\n",
    "\"\"\"\n",
    "class Test:\n",
    "    def f1():\n",
    "        print(\"f1\")\n",
    "    def f2(self):\n",
    "        print(self)\n",
    "        print(type(self))\n",
    "        print(\"f2\")\n",
    "\n",
    "test = Test()\n",
    "Test.f2(test)\n",
    "print(\"-----------------------------------\")\n",
    "test.f2()  # 可以看到调用这个函数的时候，是没有传递self的。但是实际上却是会默认将自己传递进去\n",
    "\n",
    "# 类中的普通函数只能由类调用\n",
    "Test.f1()\n",
    "# case 2.不绑定self的方法只能由类调用，实例是无法调用的。\n",
    "test.f1() # TypeError: f1() takes 0 positional arguments but 1 was given"
   ]
  },
  {
   "cell_type": "code",
   "execution_count": null,
   "metadata": {},
   "outputs": [
    {
     "ename": "",
     "evalue": "",
     "output_type": "error",
     "traceback": [
      "\u001b[1;31mFailed to start the Kernel. \n",
      "\u001b[1;31mCondaHTTPError: HTTP 000 CONNECTION FAILED for url <https://conda.anaconda.org/conda-forge/win-64/current_repodata.json>\n",
      "\u001b[1;31mElapsed: -\n",
      "\u001b[1;31m\n",
      "\u001b[1;31mAn HTTP error occurred when trying to retrieve this URL.\n",
      "\u001b[1;31mHTTP errors are often intermittent, and a simple retry will get you on your way.\n",
      "\u001b[1;31m'https://conda.anaconda.org/conda-forge/win-64'. \n",
      "\u001b[1;31mView Jupyter <a href='command:jupyter.viewOutput'>log</a> for further details."
     ]
    }
   ],
   "source": [
    "#实例属性、类属性\n",
    "class Student():\n",
    "    name = \"lawsonabs\"\n",
    "\n",
    "print(Student.name)\n",
    "\n",
    "master = Student()\n",
    "print(master.name) # lawsonabs 实例属性 \n",
    "# 更改实例属性的值\n",
    "master.name = \"nlp\"\n",
    "print(master.name) # nlp\n",
    "print(Student.name) # 但是不影响类属性的值"
   ]
  },
  {
   "cell_type": "code",
   "execution_count": null,
   "metadata": {},
   "outputs": [],
   "source": [
    "#全局变量的使用\n",
    "b = 5\n",
    "def f2():\n",
    "    global b\n",
    "    print(b)\n",
    "    b=9\n",
    "    print(b)\n",
    "f2()"
   ]
  },
  {
   "cell_type": "code",
   "execution_count": null,
   "metadata": {},
   "outputs": [],
   "source": [
    "\"\"\"\n",
    "1.取指定位小数\n",
    "\"\"\"\n",
    "f1 = 0.882394239423\n",
    "f1 = round(f1,4)\n",
    "print(f1)"
   ]
  },
  {
   "cell_type": "code",
   "execution_count": null,
   "metadata": {},
   "outputs": [],
   "source": [
    "'''判断某个string是否以某个字符串结尾，同样功能的还有startswith\n",
    "'''\n",
    "text = \"威派格2020年年度报告\"\n",
    "print(text.endswith(\"2020年年度报告\"))\n",
    "print(text.startswith(\"威派\"))"
   ]
  },
  {
   "cell_type": "code",
   "execution_count": null,
   "metadata": {},
   "outputs": [],
   "source": [
    "#dubug\n",
    "def fn():\n",
    "    try:\n",
    "        for i in range(5):\n",
    "            if i>10:\n",
    "                raise Exception(\"数字大于2了\")\n",
    "    except Exception as ret: # 如果try中发生了  Exception 异常\n",
    "        print(ret)\n",
    "    else: # 如果没有异常发生，则会执行else 的语句\n",
    "        print(\"顺利执行完毕\")\n",
    "fn()"
   ]
  },
  {
   "cell_type": "code",
   "execution_count": null,
   "metadata": {},
   "outputs": [
    {
     "name": "stdout",
     "output_type": "stream",
     "text": [
      "Counter({'blue': 3, 'red': 2, 'green': 1})\n"
     ]
    }
   ],
   "source": [
    "#列表元素计数：\n",
    "from collections import Counter\n",
    "color = ['red', 'blue', 'red', 'green', 'blue', 'blue']\n",
    "res =Counter(color)\n",
    "print(res)"
   ]
  },
  {
   "cell_type": "code",
   "execution_count": null,
   "metadata": {},
   "outputs": [
    {
     "data": {
      "text/plain": [
       "['__add__',\n",
       " '__class__',\n",
       " '__class_getitem__',\n",
       " '__contains__',\n",
       " '__delattr__',\n",
       " '__delitem__',\n",
       " '__dir__',\n",
       " '__doc__',\n",
       " '__eq__',\n",
       " '__format__',\n",
       " '__ge__',\n",
       " '__getattribute__',\n",
       " '__getitem__',\n",
       " '__gt__',\n",
       " '__hash__',\n",
       " '__iadd__',\n",
       " '__imul__',\n",
       " '__init__',\n",
       " '__init_subclass__',\n",
       " '__iter__',\n",
       " '__le__',\n",
       " '__len__',\n",
       " '__lt__',\n",
       " '__mul__',\n",
       " '__ne__',\n",
       " '__new__',\n",
       " '__reduce__',\n",
       " '__reduce_ex__',\n",
       " '__repr__',\n",
       " '__reversed__',\n",
       " '__rmul__',\n",
       " '__setattr__',\n",
       " '__setitem__',\n",
       " '__sizeof__',\n",
       " '__str__',\n",
       " '__subclasshook__',\n",
       " 'append',\n",
       " 'clear',\n",
       " 'copy',\n",
       " 'count',\n",
       " 'extend',\n",
       " 'index',\n",
       " 'insert',\n",
       " 'pop',\n",
       " 'remove',\n",
       " 'reverse',\n",
       " 'sort']"
      ]
     },
     "execution_count": 6,
     "metadata": {},
     "output_type": "execute_result"
    }
   ],
   "source": [
    "'''\n",
    "dir函数\n",
    "（1）无参时：返回当前范围内的变量、方法和定义的类型列表；\n",
    "（2）有参时：可以用于查看当前这个参数的方法，属性列表\n",
    "'''\n",
    "\n",
    "li  = [1,2]\n",
    "dir(li)"
   ]
  },
  {
   "cell_type": "code",
   "execution_count": null,
   "metadata": {},
   "outputs": [],
   "source": [
    "\"\"\"使用迭代器是通用的、标准的、优雅的、pythonic的。\n",
    "如何创建迭代器？有两种方法：\n",
    "01.传递一个参数给iter()函数，这个函数会检查参数是否是一个序列\n",
    "02.自定义一个类（本例所示），但是得实现__iter__()、__next__()方法\n",
    "\"\"\"\n",
    "class Fab(object):\n",
    "    def __init__(self, max):\n",
    "        self.max = max\n",
    "        self.n, self.a, self.b = 0, 0, 1 # 可以一起赋值\n",
    "\n",
    "    # 用于表示当前这个类是可迭代的。即这个类是一个迭代器 \n",
    "    # 只在迭代开始的时候运行一次。返回的是对象本身，这个对象可迭代。然后迭代的方法就是下面的这个__next__()方法\n",
    "    # 直到遇到StopIteration错误时退出循环\n",
    "    def __iter__(self):\n",
    "        print(\"__iter__\")\n",
    "        return self\n",
    "\n",
    "    # TypeError: iter() returned non-iterator of type 'Fab'\n",
    "    # 需要补一补 __next__() 方法的使用\n",
    "    # __next__ 方法应该是在遍历的时候不停地运行\n",
    "    def __next__(self):\n",
    "        print(\"__next__\")\n",
    "        if self.n < self.max:\n",
    "            r = self.b\n",
    "            self.a, self.b = self.b, self.a + self.b\n",
    "            self.n = self.n + 1\n",
    "            return r\n",
    "        raise StopIteration() \n",
    "\n",
    "# 下面这个5是设置的计算可得的最大值\n",
    "fab = Fab(5)\n",
    "for n in fab: # 对象可以迭代\n",
    "    print(n)"
   ]
  },
  {
   "cell_type": "code",
   "execution_count": null,
   "metadata": {},
   "outputs": [],
   "source": [
    "'''\n",
    "01.zip(*sample) 的含义是什么？\n",
    "'''\n",
    "sample = [['补', 'DRUG_EFFICACY_B'], ['气', 'DRUG_EFFICACY_I'], ['养', 'DRUG_EFFICACY_I'], ['血', 'DRUG_EFFICACY_I']]\n",
    "out= zip(*sample)\n",
    "\n",
    "print(type(out)) # <class 'zip'>\n",
    "for _ in out :\n",
    "    print(_) # ('补', '气', '养', '血')\n",
    "\n",
    "sample = list(map(list,zip(*sample)))\n",
    "\n",
    "print(sample)\n",
    "print(len(sample))"
   ]
  },
  {
   "cell_type": "code",
   "execution_count": null,
   "metadata": {},
   "outputs": [],
   "source": [
    "\"\"\"classmethod装饰器\n",
    "01.classmethod修饰符对应的函数不需要实例化，不需要self参数，\n",
    "但第一个参数需要是表示自身类的cls参数，可以来调用类的属性，方法，实例化对象\n",
    "\n",
    "02.@classmethod 是Python 内置的函数装饰器，其主要作用将类方法中的函数方法转换\n",
    "为类方法\n",
    "\n",
    "\"\"\"\n",
    "class Student:\n",
    "    def __init__(self,idNum,name):\n",
    "        self.idNum = idNum\n",
    "        self.name = name\n",
    "        \n",
    "    @classmethod\n",
    "    def other(cls,idNum,name):\n",
    "        return cls(idNum,name)\n",
    "    \n",
    "    def __repr__(self):\n",
    "        return str(self.idNum)+\",\"+self.name\n",
    "    \n",
    "s1 = Student(1,'lawson')\n",
    "s2 = Student.other(2,'kiwi')  # \n",
    "\n",
    "print(s1)\n",
    "print(s2)"
   ]
  },
  {
   "cell_type": "code",
   "execution_count": null,
   "metadata": {},
   "outputs": [],
   "source": [
    "#从列表中每次选择2个元素\n",
    "itertools.combinations(image_list, 2)"
   ]
  },
  {
   "cell_type": "code",
   "execution_count": null,
   "metadata": {},
   "outputs": [],
   "source": [
    "# 3.yield Statement\n",
    "\n",
    "def fibonacci(n):\n",
    "    a = 0\n",
    "    b = 1\n",
    "    nums = []\n",
    "    for _ in range(n):\n",
    "        nums.append(a)\n",
    "        a, b = b, a + b\n",
    "    return nums\n",
    "\n",
    "\n",
    "def fibonacci1(n):\n",
    "    a = 0\n",
    "    b = 1\n",
    "    for _ in range(n):\n",
    "        yield a\n",
    "        a, b = b, a + b\n",
    "\n",
    "for i in fibonacci1(10):\n",
    "    print(i)"
   ]
  },
  {
   "cell_type": "code",
   "execution_count": null,
   "metadata": {},
   "outputs": [],
   "source": [
    "#函数修饰器\n",
    "def display_time(func):\n",
    "    def wrapper(*args):\n",
    "        start = time.time()\n",
    "        \n",
    "        func(*args)\n",
    "        \n",
    "        end = time.time()\n",
    "        print(\"time cost:\", end - start)\n",
    "        \n",
    "    return wrapper"
   ]
  }
 ],
 "metadata": {
  "kernelspec": {
   "display_name": "base",
   "language": "python",
   "name": "python3"
  },
  "language_info": {
   "codemirror_mode": {
    "name": "ipython",
    "version": 3
   },
   "file_extension": ".py",
   "mimetype": "text/x-python",
   "name": "python",
   "nbconvert_exporter": "python",
   "pygments_lexer": "ipython3",
   "version": "3.9.7 (default, Sep 16 2021, 16:59:28) [MSC v.1916 64 bit (AMD64)]"
  },
  "orig_nbformat": 4,
  "vscode": {
   "interpreter": {
    "hash": "e42634819b8c191a5d07eaf23810ff32516dd8d3875f28ec3e488928fbd3c187"
   }
  }
 },
 "nbformat": 4,
 "nbformat_minor": 2
}
